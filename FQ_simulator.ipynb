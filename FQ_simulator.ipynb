{
 "cells": [
  {
   "cell_type": "code",
   "execution_count": 135,
   "metadata": {},
   "outputs": [],
   "source": [
    "import numpy as np\n",
    "from scipy import linalg\n",
    "from qutip import *"
   ]
  },
  {
   "cell_type": "code",
   "execution_count": 241,
   "metadata": {},
   "outputs": [],
   "source": [
    "def FQ(derivativerho, rho):\n",
    "    a = rho.full()\n",
    "    q = 2 * derivativerho.full()\n",
    "\n",
    "    if np.allclose( a, a.dot(a) ) == True:\n",
    "        print(\"The density matrix is a pure state.\")\n",
    "        return np.trace( (q.dot(q)).dot(a) )\n",
    "\n",
    "    # Compute the symmetric logarithmic derivative by solving the continuous Lyapunov equation\n",
    "    ## Ref: https://docs.scipy.org/doc/scipy/reference/generated/scipy.linalg.solve_continuous_lyapunov.html\n",
    "    L = linalg.solve_continuous_lyapunov(a, q)\n",
    "    L2 = (L.dot(L))\n",
    "    #print(L2.dot(a))\n",
    "    Fisher_Q = np.trace(L2.dot(a))\n",
    "    return Fisher_Q"
   ]
  },
  {
   "cell_type": "code",
   "execution_count": 242,
   "metadata": {},
   "outputs": [
    {
     "name": "stdout",
     "output_type": "stream",
     "text": [
      "The density matrix is a pure state.\n",
      "(1+0j)\n"
     ]
    }
   ],
   "source": [
    "# Test for different quantum states\n",
    "\n",
    "## Test for qubit state\n",
    "\n",
    "# Define |+> state for qubit\n",
    "\n",
    "plus = Qobj([[1], [1]]) / np.sqrt(2)\n",
    "rho = plus * plus.dag()\n",
    "\n",
    "# Define the evolution of the state as U(theta) = exp(-i theta sigma_z / 2)\n",
    "\n",
    "def U(theta):\n",
    "    return (sigmaz()*0.5*-1j*theta).expm()\n",
    "\n",
    "def rho_i(theta):\n",
    "    return U(theta) * rho * U(theta).dag()\n",
    "\n",
    "def derivative_of_rho(theta,h):\n",
    "    # Compute central finite difference\n",
    "    drho_dx = (rho_i(theta + h) - rho_i(theta - h)) / (2 * h)\n",
    "    return drho_dx\n",
    "\n",
    "\n",
    "def FQ_qubit_1(theta):\n",
    "    return np.round(FQ(derivative_of_rho(theta, 1e-4), rho_i(theta)),8)\n",
    "\n",
    "print(FQ_qubit_1(2))"
   ]
  },
  {
   "cell_type": "code",
   "execution_count": 261,
   "metadata": {},
   "outputs": [
    {
     "name": "stdout",
     "output_type": "stream",
     "text": [
      "The density matrix is a pure state.\n"
     ]
    },
    {
     "data": {
      "text/plain": [
       "(63.99997931-0j)"
      ]
     },
     "execution_count": 261,
     "metadata": {},
     "output_type": "execute_result"
    }
   ],
   "source": [
    "## Test for coherent state\n",
    "\n",
    "# Define |alpha> state for coherent state\n",
    "\n",
    "alpha = 4.0\n",
    "#N = 2 * 1024\n",
    "N = 200\n",
    "coherent_ket = coherent(N, alpha)\n",
    "rho = coherent_ket * coherent_ket.dag()\n",
    "\n",
    "# Define the evolution of the state as U(theta) = exp(-i theta a^dagger a)\n",
    "\n",
    "def U(theta):\n",
    "    return (num(N) * -1j * theta).expm()\n",
    "\n",
    "def rho_i(theta):\n",
    "    return U(theta) * rho * U(theta).dag()\n",
    "\n",
    "def derivative_of_rho(theta,h):\n",
    "    # Compute central finite difference\n",
    "    drho_dx = (rho_i(theta + h) - rho_i(theta - h)) / (2 * h)\n",
    "    #drho_dx = np.gradient(rho_i(theta).full(), h)    \n",
    "    return drho_dx\n",
    "\n",
    "np.round(FQ(derivative_of_rho(5, 0.0001), rho_i(5)),8)"
   ]
  },
  {
   "cell_type": "code",
   "execution_count": 290,
   "metadata": {},
   "outputs": [
    {
     "data": {
      "text/plain": [
       "(4.49512435+0.00312512j)"
      ]
     },
     "execution_count": 290,
     "metadata": {},
     "output_type": "execute_result"
    }
   ],
   "source": [
    "## Test for a mixed state\n",
    "\n",
    "# Define a mixture of coherent states\n",
    "\n",
    "alpha = 1.0\n",
    "N = 50\n",
    "coherent_ket1 = coherent(N, alpha)\n",
    "rho = coherent_ket1 * coherent_ket1.dag()\n",
    "\n",
    "alpha = 1.2\n",
    "coherent_ket2 = coherent(N, alpha)\n",
    "rho = (coherent_ket2 * coherent_ket2.dag()) * 0.3 + rho * 0.7\n",
    "\n",
    "# Define the evolution of the state as U(theta) = exp(-i theta a^dagger a)\n",
    "\n",
    "def U(theta):\n",
    "    return (num(N) * -1j * theta).expm()\n",
    "\n",
    "def rho_i(theta):\n",
    "    return U(theta) * rho * U(theta).dag()\n",
    "\n",
    "def derivative_of_rho(theta,h):\n",
    "    # Compute central finite difference\n",
    "    drho_dx = (rho_i(theta + h) - rho_i(theta - h)) / (2 * h)\n",
    "    #drho_dx = np.gradient(rho_i(theta).full(), h)    \n",
    "    return drho_dx\n",
    "\n",
    "\n",
    "### Error in the FQ calculation\n",
    "\n",
    "np.round(FQ(derivative_of_rho(2, 0.0001), rho_i(2)),8)\n",
    "\n",
    "\n"
   ]
  },
  {
   "cell_type": "code",
   "execution_count": 276,
   "metadata": {},
   "outputs": [
    {
     "name": "stdout",
     "output_type": "stream",
     "text": [
      "(0.25+0j)\n"
     ]
    }
   ],
   "source": [
    "## Test for a mixed qubit state\n",
    "\n",
    "# Define the evolution of the state as U(theta) = exp(-i theta sigma_z / 2)\n",
    "\n",
    "def U(theta):\n",
    "    return (sigmaz()*0.5*-1j*theta).expm()\n",
    "\n",
    "# Define a mixture of qubit states |+> and |->\n",
    "\n",
    "plus = Qobj([[1], [1]]) / np.sqrt(2)\n",
    "rho = plus * plus.dag()\n",
    "\n",
    "minus = Qobj([[1], [-1]]) / np.sqrt(2)\n",
    "rho = U(np.pi/3) * (minus * minus.dag()) * U(np.pi/3).dag()  * 0.5 + (plus * plus.dag())*0.5\n",
    "\n",
    "\n",
    "def rho_i(theta):\n",
    "    return U(theta) * rho * U(theta).dag()\n",
    "\n",
    "def derivative_of_rho(theta,h):\n",
    "    # Compute central finite difference\n",
    "    drho_dx = (rho_i(theta + h) - rho_i(theta - h)) / (2 * h)\n",
    "    return drho_dx\n",
    "\n",
    "\n",
    "def FQ_qubit_mix(theta):\n",
    "    return np.round(FQ(derivative_of_rho(theta, 1e-4), rho_i(theta)),8)\n",
    "\n",
    "print(FQ_qubit_mix(3))\n",
    "\n"
   ]
  }
 ],
 "metadata": {
  "kernelspec": {
   "display_name": "qutip-env-2",
   "language": "python",
   "name": "python3"
  },
  "language_info": {
   "codemirror_mode": {
    "name": "ipython",
    "version": 3
   },
   "file_extension": ".py",
   "mimetype": "text/x-python",
   "name": "python",
   "nbconvert_exporter": "python",
   "pygments_lexer": "ipython3",
   "version": "3.11.0"
  }
 },
 "nbformat": 4,
 "nbformat_minor": 2
}
